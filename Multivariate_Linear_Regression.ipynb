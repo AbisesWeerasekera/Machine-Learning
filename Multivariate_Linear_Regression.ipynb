{
  "nbformat": 4,
  "nbformat_minor": 0,
  "metadata": {
    "colab": {
      "name": "Multivariate Linear_Regression.ipynb",
      "provenance": [],
      "collapsed_sections": []
    },
    "kernelspec": {
      "name": "python3",
      "display_name": "Python 3"
    },
    "language_info": {
      "name": "python"
    }
  },
  "cells": [
    {
      "cell_type": "markdown",
      "metadata": {
        "id": "p9YUP3dGMeQE"
      },
      "source": [
        "# **Multivariate Linear Regression**\n",
        "## Note : The Code takes about 12 seconds to execute"
      ]
    },
    {
      "cell_type": "markdown",
      "metadata": {
        "id": "4wb_jiU2OFEm"
      },
      "source": [
        "The goal of this notebook is to demonstrate a linear regression model from the ground up using numpy."
      ]
    },
    {
      "cell_type": "code",
      "metadata": {
        "id": "wEKtDT3sH-tm"
      },
      "source": [
        "%matplotlib inline\n",
        "from IPython.display import HTML\n",
        "from numpy import *\n",
        "import matplotlib.pyplot as plt\n",
        "\n",
        "import numpy as np\n",
        "import pandas as pd\n"
      ],
      "execution_count": null,
      "outputs": []
    },
    {
      "cell_type": "markdown",
      "metadata": {
        "id": "VI4RgCenNoMR"
      },
      "source": [
        "Downloaded data set to colab from UCI machine learning repository \"**QSAR fish toxicity Data Set**\"\n",
        "\n",
        "Number of attributes : 07\n",
        "Number of instances : 908"
      ]
    },
    {
      "cell_type": "code",
      "metadata": {
        "colab": {
          "base_uri": "https://localhost:8080/"
        },
        "id": "YepdM38uNZJe",
        "outputId": "84ba1d67-303c-476d-a448-ebb2345f1751"
      },
      "source": [
        "!ls"
      ],
      "execution_count": null,
      "outputs": [
        {
          "output_type": "stream",
          "text": [
            "sample_data\n"
          ],
          "name": "stdout"
        }
      ]
    },
    {
      "cell_type": "code",
      "metadata": {
        "id": "DRmnQm96N8KN",
        "colab": {
          "base_uri": "https://localhost:8080/"
        },
        "outputId": "93689fda-db96-4c3f-eb74-91ea4ed306ef"
      },
      "source": [
        "import urllib.request\n",
        "urllib.request.urlretrieve(\"https://archive.ics.uci.edu/ml/machine-learning-databases/00504/qsar_fish_toxicity.csv\",\"qsar_fish_toxicity.csv\")\n",
        "#x1 = array(qsar_fish_toxicity[:,0])\n",
        "#x2 = array(qsar_fish_toxicity[:,1])\n",
        "#x3 = array(qsar_fish_toxicity[:,2])\n",
        "#x4 = array(qsar_fish_toxicity[:,3])\n",
        "#x5 = array(qsar_fish_toxicity[:,4])\n",
        "#x6 = array(qsar_fish_toxicity[:,5])\n",
        "#y = qsar_fish_toxicity[:, 6]\n"
      ],
      "execution_count": null,
      "outputs": [
        {
          "output_type": "execute_result",
          "data": {
            "text/plain": [
              "('qsar_fish_toxicity.csv', <http.client.HTTPMessage at 0x7fe62ad9b510>)"
            ]
          },
          "metadata": {
            "tags": []
          },
          "execution_count": 3
        }
      ]
    },
    {
      "cell_type": "code",
      "metadata": {
        "id": "BIGfGuZ-Muk2",
        "colab": {
          "base_uri": "https://localhost:8080/"
        },
        "outputId": "36098763-da8b-4f7d-8e96-acf746e117d4"
      },
      "source": [
        "!ls"
      ],
      "execution_count": null,
      "outputs": [
        {
          "output_type": "stream",
          "text": [
            "qsar_fish_toxicity.csv\tsample_data\n"
          ],
          "name": "stdout"
        }
      ]
    },
    {
      "cell_type": "markdown",
      "metadata": {
        "id": "-spV44xRTZTA"
      },
      "source": [
        "## Import the data"
      ]
    },
    {
      "cell_type": "markdown",
      "metadata": {
        "id": "N3KBcQavTff8"
      },
      "source": [
        "Here, This is a dataset with **seven(7)** columns was used to develop quantitative regression QSAR models to predict acute aquatic toxicity towards the fish Pimephales promelas (fathead minnow) on a set of 908 chemicals. LC50 data, which is the concentration that causes death in 50% of test fish over a test duration of 96 hours, was used as model response. The model comprised 6 molecular descriptors: MLOGP (molecular properties), CIC0 (information indices), GATS1i (2D autocorrelations), NdssC (atom-type counts), NdsCH ((atom-type counts), SM1_Dz(Z) (2D matrix-based descriptors). respectively."
      ]
    },
    {
      "cell_type": "code",
      "metadata": {
        "id": "SiK1ePJITUy7"
      },
      "source": [
        "qsar_fish_toxicity = genfromtxt('qsar_fish_toxicity.csv', delimiter=';')\n",
        "#print(qsar_fish_toxicity)\n",
        "#Extract coulmns, we have 7 columns\n"
      ],
      "execution_count": null,
      "outputs": []
    },
    {
      "cell_type": "markdown",
      "metadata": {
        "id": "BgmrqUSrZBbc"
      },
      "source": [
        "## Defining the hyperparameters"
      ]
    },
    {
      "cell_type": "code",
      "metadata": {
        "id": "HVgUJVKqY_TI"
      },
      "source": [
        "#define and declaration of hyperparamters\n",
        "learning_rate = 0.0001\n",
        "initial_t0 = 0\n",
        "initial_t1 = 0\n",
        "initial_t2 = 0\n",
        "initial_t3 = 0\n",
        "initial_t4 = 0\n",
        "initial_t5 = 0\n",
        "initial_t6 = 0\n",
        "num_iterations = 1000"
      ],
      "execution_count": null,
      "outputs": []
    },
    {
      "cell_type": "markdown",
      "metadata": {
        "id": "D6bBJPkSZ1qc"
      },
      "source": [
        "## Define the Cost Function"
      ]
    },
    {
      "cell_type": "code",
      "metadata": {
        "id": "wOocPbC9Z08p"
      },
      "source": [
        "def compute_cost( t0, t1, t2, t3, t4, t5, t6, qsar_fish_toxicity):\n",
        "    total_cost = 0\n",
        "    \n",
        "    # number of datapoints in training data ,In this scenario N = 908\n",
        "    N = float(len(qsar_fish_toxicity))\n",
        "    \n",
        "    # Compute sum of squared errors\n",
        "    for i in range(0, len(qsar_fish_toxicity)):\n",
        "        x1 = qsar_fish_toxicity[i, 0]\n",
        "        x2 = qsar_fish_toxicity[i, 1]\n",
        "        x3 = qsar_fish_toxicity[i, 2]\n",
        "        x4 = qsar_fish_toxicity[i, 3]\n",
        "        x5 = qsar_fish_toxicity[i, 4]\n",
        "        x6 = qsar_fish_toxicity[i, 5]\n",
        "        y = qsar_fish_toxicity[i, 6]\n",
        "        \n",
        "        total_cost += (y - (t0 + t1 * x1 + t2 * x2 + t3 * x3 + t4 * x4 + t5 * x5 + t6 * x6)) ** 2\n",
        "        \n",
        "    # Return average of squared error\n",
        "    return total_cost/(2*N)"
      ],
      "execution_count": null,
      "outputs": []
    },
    {
      "cell_type": "markdown",
      "metadata": {
        "id": "ZnNr4T3Q-9TE"
      },
      "source": [
        "## Define Gradient Descent functions"
      ]
    },
    {
      "cell_type": "code",
      "metadata": {
        "id": "z7dQ8n5m-ep5"
      },
      "source": [
        "def step_gradient(t0_current, t1_current, t2_current, t3_current, t4_current, t5_current, t6_current, qsar_fish_toxicity, alpha):\n",
        "    \"\"\"takes one step down towards the minima\n",
        "    \n",
        "    Args:\n",
        "        t0_current (float): current value of t0\n",
        "        t1_current (float): current value of t1\n",
        "        t2_current (float): current value of t2\n",
        "        t3_current (float): current value of t3\n",
        "        t4_current (float): current value of t4\n",
        "        t5_current (float): current value of t5\n",
        "        t6_current (float): current value of t6\n",
        "        qsar_fish_toxicity (np.array): array containing the training data (t0,t1,t2,t3,t4,t5,t6,y)\n",
        "        alpha (float): learning rate / step size\n",
        "    \n",
        "    Returns:\n",
        "        tuple: (t0,t1,t2,t3,t4,t5,t6) new values of t0,t1,t2,t3,t4,t5,t6\n",
        "    \"\"\"\n",
        "    \n",
        "    t0_gradient = 0\n",
        "    t1_gradient = 0\n",
        "    t2_gradient = 0\n",
        "    t3_gradient = 0\n",
        "    t4_gradient = 0\n",
        "    t5_gradient = 0\n",
        "    t6_gradient = 0\n",
        "\n",
        "    N = float(len(qsar_fish_toxicity))\n",
        "\n",
        "    # Calculate Gradient Function\n",
        "    for i in range(0, len(qsar_fish_toxicity)):\n",
        "        x1 = qsar_fish_toxicity[i, 0]\n",
        "        x2 = qsar_fish_toxicity[i, 1]\n",
        "        x3 = qsar_fish_toxicity[i, 2]\n",
        "        x4 = qsar_fish_toxicity[i, 3]\n",
        "        x5 = qsar_fish_toxicity[i, 4]\n",
        "        x6 = qsar_fish_toxicity[i, 5]\n",
        "        y = qsar_fish_toxicity[i, 6]\n",
        "        \n",
        "        t0_gradient += - (2/N) * (y - (t0_current + t1_current * x1 + t2_current * x2 + t3_current * x3 + t4_current * x4 + t5_current * x5 + t6_current * x6))\n",
        "        t1_gradient += - (2/N) * x1 * (y - (t0_current + t1_current * x1 + t2_current * x2 + t3_current * x3 + t4_current * x4 + t5_current * x5 + t6_current * x6))\n",
        "        t2_gradient += - (2/N) * x2 * (y - (t0_current + t1_current * x1 + t2_current * x2 + t3_current * x3 + t4_current * x4 + t5_current * x5 + t6_current * x6))\n",
        "        t3_gradient += - (2/N) * x3 * (y - (t0_current + t1_current * x1 + t2_current * x2 + t3_current * x3 + t4_current * x4 + t5_current * x5 + t6_current * x6))\n",
        "        t4_gradient += - (2/N) * x4 * (y - (t0_current + t1_current * x1 + t2_current * x2 + t3_current * x3 + t4_current * x4 + t5_current * x5 + t6_current * x6))\n",
        "        t5_gradient += - (2/N) * x5 * (y - (t0_current + t1_current * x1 + t2_current * x2 + t3_current * x3 + t4_current * x4 + t5_current * x5 + t6_current * x6))\n",
        "        t6_gradient += - (2/N) * x6 * (y - (t0_current + t1_current * x1 + t2_current * x2 + t3_current * x3 + t4_current * x4 + t5_current * x5 + t6_current * x6))\n",
        "    \n",
        "    #(y - (t0_current + t1_current * x1 + t2_current * x2 + t3_current * x3 + t4_current * x4 + t5_current * x5 + t6_current * x6))\n",
        "    # Update current t0,t1,t2,t3,t4,t5 and t6\n",
        "    t0_updated = t0_current - alpha * t0_gradient\n",
        "    t1_updated = t1_current - alpha * t1_gradient\n",
        "    t2_updated = t2_current - alpha * t2_gradient\n",
        "    t3_updated = t3_current - alpha * t3_gradient\n",
        "    t4_updated = t4_current - alpha * t4_gradient\n",
        "    t5_updated = t5_current - alpha * t5_gradient\n",
        "    t6_updated = t6_current - alpha * t6_gradient\n",
        "\n",
        "\n",
        "\n",
        "    #Return updated parameters\n",
        "    return t0_updated, t1_updated, t2_updated, t3_updated, t4_updated, t5_updated, t6_updated\n",
        "\n",
        "\n",
        "def gradient_descent(qsar_fish_toxicity, starting_t0, starting_t1, starting_t2, starting_t3, starting_t4, starting_t5, starting_t6, learning_rate, num_iterations):\n",
        "\n",
        "    \"\"\"runs gradient descent\n",
        "    \n",
        "    Args:\n",
        "        qsar_fish_toxicity (np.array): training data, containing t0,t1,t2,t3,t4,t5,t6,y\n",
        "        starting_t0 (float): initial value of t0 (random)\n",
        "        starting_t1 (float): initial value of t1 (random)\n",
        "        starting_t2 (float): initial value of t2 (random)\n",
        "        starting_t3 (float): initial value of t3 (random)\n",
        "        starting_t4 (float): initial value of t4 (random)\n",
        "        starting_t5 (float): initial value of t5 (random)\n",
        "        starting_t6 (float): initial value of t6 (random)\n",
        "        learning_rate (float): hyperparameter to adjust the step size during descent\n",
        "        num_iterations (int): hyperparameter, decides the number of iterations for which gradient descent would run\n",
        "    \n",
        "    Returns:\n",
        "        list : the first and second item are t0,t1,t2,t3,t4,t5,t6 respectively at which the best fit curve is obtained, the third and fourth items are two lists, which store the value of t0,t1,t2,t3,t4,t5 and t6  as gradient descent proceeded.\n",
        "    \"\"\"\n",
        "\n",
        "    # initial values\n",
        "    \n",
        "    t0 = starting_t0\n",
        "    t1 = starting_t1\n",
        "    t2 = starting_t2\n",
        "    t3 = starting_t3\n",
        "    t4 = starting_t4\n",
        "    t5 = starting_t5\n",
        "    t6 = starting_t6\n",
        "    \n",
        "    # to store the cost after each iteration\n",
        "    cost_graph = []\n",
        "    \n",
        "    \n",
        "    t0_progress = []\n",
        "    t1_progress = []\n",
        "    t2_progress = []\n",
        "    t3_progress = []\n",
        "    t4_progress = []\n",
        "    t5_progress = []\n",
        "    t6_progress = []\n",
        "    \n",
        "    # For every iteration, optimize t0,t1,t2,t3,t4,t5,t6  and compute its cost\n",
        "    for i in range(num_iterations):\n",
        "        cost_graph.append(compute_cost( t0, t1, t2, t3, t4, t5, t6, qsar_fish_toxicity))\n",
        "        \n",
        "        t0, t1, t2, t3, t4, t5, t6 = step_gradient(t0, t1, t2, t3, t4, t5, t6, array(qsar_fish_toxicity), learning_rate)\n",
        "       \n",
        "        t0_progress.append(t0)\n",
        "        t1_progress.append(t1)\n",
        "        t2_progress.append(t2)\n",
        "        t3_progress.append(t3)\n",
        "        t4_progress.append(t4)\n",
        "        t5_progress.append(t5)\n",
        "        t6_progress.append(t6)\n",
        "        \n",
        "        \n",
        "    \n",
        "    return [t0, t1, t2, t3, t4, t5, t6, cost_graph, t0_progress, t1_progress, t2_progress, t3_progress, t4_progress, t5_progress, t6_progress]"
      ],
      "execution_count": null,
      "outputs": []
    },
    {
      "cell_type": "markdown",
      "metadata": {
        "id": "8xNWc1uQOHFb"
      },
      "source": [
        "## Run gradient_descent() to get optimized parameters t0, t1, t2, t3, t4, t5 and t6"
      ]
    },
    {
      "cell_type": "code",
      "metadata": {
        "id": "FbmElJbuOEIm",
        "colab": {
          "base_uri": "https://localhost:8080/"
        },
        "outputId": "36f1b4ab-e7ca-4d6d-cfef-33d996204e9d"
      },
      "source": [
        "\n",
        "t0, t1, t2, t3, t4, t5, t6, cost_graph, t0_progress, t1_progress, t2_progress, t3_progress, t4_progress, t5_progress, t6_progress = gradient_descent(qsar_fish_toxicity, initial_t0, initial_t1, initial_t2, initial_t3, initial_t4, initial_t5, initial_t6, learning_rate, num_iterations)\n",
        "#Print optimized parameters\n",
        "\n",
        "print ('Optimized t0:', t0)\n",
        "print ('Optimized t1:', t1)\n",
        "print ('Optimized t2:', t2)\n",
        "print ('Optimized t3:', t3)\n",
        "print ('Optimized t4:', t4)\n",
        "print ('Optimized t5:', t5)\n",
        "print ('Optimized t6:', t6)\n",
        "\n",
        "\n",
        "\n",
        "#Print error with optimized parameters\n",
        "\n",
        "print ('Minimized cost:', compute_cost(t0, t1, t2, t3, t4, t5, t6, qsar_fish_toxicity))\n"
      ],
      "execution_count": null,
      "outputs": [
        {
          "output_type": "stream",
          "text": [
            "Optimized t0: 0.2377149844428744\n",
            "Optimized t1: 0.6520488852918811\n",
            "Optimized t2: 0.1933557478938609\n",
            "Optimized t3: 0.27235048317118216\n",
            "Optimized t4: 0.07145504153924973\n",
            "Optimized t5: 0.12261957647400726\n",
            "Optimized t6: 0.5598174130857656\n",
            "Minimized cost: 0.7211288099651326\n"
          ],
          "name": "stdout"
        }
      ]
    },
    {
      "cell_type": "markdown",
      "metadata": {
        "id": "NaAbq9-FRmXF"
      },
      "source": [
        "## Plotting the cost per iterations"
      ]
    },
    {
      "cell_type": "code",
      "metadata": {
        "id": "Z-oJEVy9RkQn",
        "colab": {
          "base_uri": "https://localhost:8080/",
          "height": 295
        },
        "outputId": "01ef72ad-b1b9-41da-a7c9-899c77c09b5b"
      },
      "source": [
        "\n",
        "plt.plot(cost_graph)\n",
        "plt.xlabel('No. of iterations')\n",
        "plt.ylabel('Cost')\n",
        "plt.title('Cost per iteration')\n",
        "plt.show()"
      ],
      "execution_count": null,
      "outputs": [
        {
          "output_type": "display_data",
          "data": {
            "image/png": "[encoded data removed]",
            "text/plain": [
              "<Figure size 432x288 with 1 Axes>"
            ]
          },
          "metadata": {
            "tags": [],
            "needs_background": "light"
          }
        }
      ]
    }
  ]
}